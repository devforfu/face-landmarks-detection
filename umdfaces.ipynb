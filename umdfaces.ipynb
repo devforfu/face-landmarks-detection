{
 "cells": [
  {
   "cell_type": "markdown",
   "metadata": {},
   "source": [
    "# Face Landmarks\n",
    "\n",
    "Using a subset of [UMD Faces](http://umdfaces.io) database to train a face landmarks predicting model."
   ]
  },
  {
   "cell_type": "code",
   "execution_count": null,
   "metadata": {
    "ExecuteTime": {
     "end_time": "2018-12-28T13:41:03.680809Z",
     "start_time": "2018-12-28T13:41:03.445435Z"
    }
   },
   "outputs": [],
   "source": [
    "%matplotlib inline\n",
    "%load_ext autoreload\n",
    "%autoreload 2"
   ]
  },
  {
   "cell_type": "code",
   "execution_count": null,
   "metadata": {
    "ExecuteTime": {
     "end_time": "2018-12-28T13:41:04.024328Z",
     "start_time": "2018-12-28T13:41:04.009351Z"
    }
   },
   "outputs": [],
   "source": [
    "from functools import partial\n",
    "from multiprocessing import Pool\n",
    "from os.path import join\n",
    "from pathlib import Path\n",
    "from copy import deepcopy\n",
    "import random\n",
    "import math\n",
    "import sys"
   ]
  },
  {
   "cell_type": "code",
   "execution_count": null,
   "metadata": {
    "ExecuteTime": {
     "end_time": "2018-12-28T13:41:04.336574Z",
     "start_time": "2018-12-28T13:41:04.325343Z"
    }
   },
   "outputs": [],
   "source": [
    "try:\n",
    "    old_path\n",
    "except NameError:\n",
    "    old_path = sys.path\n",
    "    new_path = [str(Path.cwd()/'loop')] + old_path\n",
    "    sys.path = new_path"
   ]
  },
  {
   "cell_type": "code",
   "execution_count": null,
   "metadata": {
    "ExecuteTime": {
     "end_time": "2018-12-28T13:41:05.496299Z",
     "start_time": "2018-12-28T13:41:04.601182Z"
    }
   },
   "outputs": [],
   "source": [
    "import pandas as pd\n",
    "import numpy as np\n",
    "import cv2 as cv\n",
    "import PIL.Image\n",
    "from imageio import imread\n",
    "from sklearn.model_selection import train_test_split\n",
    "import matplotlib.pyplot as plt\n",
    "from matplotlib.patches import Rectangle\n",
    "from tqdm import tqdm_notebook as tqdm\n",
    "\n",
    "import torch"
   ]
  },
  {
   "cell_type": "code",
   "execution_count": null,
   "metadata": {
    "ExecuteTime": {
     "end_time": "2018-12-28T13:41:05.578381Z",
     "start_time": "2018-12-28T13:41:05.498142Z"
    }
   },
   "outputs": [],
   "source": [
    "from loop import train\n",
    "from loop.config import defaults\n",
    "from basedir import DATA, META, CROPPED, NUM_LANDMARKS"
   ]
  },
  {
   "cell_type": "code",
   "execution_count": null,
   "metadata": {
    "ExecuteTime": {
     "end_time": "2018-12-28T13:41:05.592886Z",
     "start_time": "2018-12-28T13:41:05.579615Z"
    }
   },
   "outputs": [],
   "source": [
    "SEED = 1\n",
    "DEVICE = torch.device('cuda:1')\n",
    "random.seed(SEED)\n",
    "np.random.seed(SEED)\n",
    "torch.manual_seed(SEED)\n",
    "defaults.device = DEVICE"
   ]
  },
  {
   "cell_type": "markdown",
   "metadata": {},
   "source": [
    "---\n",
    "## Dataset First Glance"
   ]
  },
  {
   "cell_type": "code",
   "execution_count": null,
   "metadata": {
    "ExecuteTime": {
     "end_time": "2018-12-28T13:41:06.566714Z",
     "start_time": "2018-12-28T13:41:05.786160Z"
    }
   },
   "outputs": [],
   "source": [
    "meta = pd.read_csv(META)\n",
    "meta.columns = meta.columns.str.lower()\n",
    "cols = meta.columns\n",
    "file_cols = ['subject_id', 'file']\n",
    "face_cols = cols[cols.str.startswith('face')].tolist()\n",
    "x_cols = cols[cols.str.startswith('p') & cols.str.endswith('x')].tolist()\n",
    "y_cols = cols[cols.str.startswith('p') & cols.str.endswith('y')].tolist()\n",
    "faces_df = meta[file_cols + face_cols + x_cols + y_cols]\n",
    "faces_df.head()"
   ]
  },
  {
   "cell_type": "code",
   "execution_count": null,
   "metadata": {
    "ExecuteTime": {
     "end_time": "2018-12-28T13:41:06.582209Z",
     "start_time": "2018-12-28T13:41:06.568233Z"
    }
   },
   "outputs": [],
   "source": [
    "def show(i, ax=None):\n",
    "    global faces_df, DATA\n",
    "    r = faces_df.loc[i]\n",
    "    img = imread(DATA/r.file)\n",
    "    x_pts = [r[k] for k in r.keys() if k[0] == 'p' and k[-1] == 'x']\n",
    "    y_pts = [r[k] for k in r.keys() if k[0] == 'p' and k[-1] == 'y']\n",
    "    if ax is None:\n",
    "        f, ax = plt.subplots(1, 1, figsize=(8, 8))\n",
    "    rc = Rectangle(xy=(r.face_x, r.face_y), \n",
    "                   width=r.face_width, height=r.face_height,\n",
    "                   edgecolor='red', fill=False, lw=5)\n",
    "    ax.imshow(img)\n",
    "    ax.scatter(x_pts, y_pts, edgecolor='white', color='lightgreen', alpha=0.8)    \n",
    "    ax.add_patch(rc)"
   ]
  },
  {
   "cell_type": "code",
   "execution_count": null,
   "metadata": {
    "ExecuteTime": {
     "end_time": "2018-12-28T13:41:07.830689Z",
     "start_time": "2018-12-28T13:41:07.410081Z"
    }
   },
   "outputs": [],
   "source": [
    "show(3)"
   ]
  },
  {
   "cell_type": "code",
   "execution_count": null,
   "metadata": {
    "ExecuteTime": {
     "end_time": "2018-12-28T13:41:08.065964Z",
     "start_time": "2018-12-28T13:41:08.049262Z"
    }
   },
   "outputs": [],
   "source": [
    "def show_grid(n=3, figsize=(10, 10)):\n",
    "    global faces_df\n",
    "    f, axes = plt.subplots(n, n, figsize=figsize)\n",
    "    indicies = np.random.choice(len(faces_df), n ** 2, replace=False)\n",
    "    for i, ax in zip(indicies, axes.flat):\n",
    "        show(i, ax=ax)\n",
    "        ax.set_axis_off()"
   ]
  },
  {
   "cell_type": "code",
   "execution_count": null,
   "metadata": {
    "ExecuteTime": {
     "end_time": "2018-12-28T13:41:09.176720Z",
     "start_time": "2018-12-28T13:41:08.496160Z"
    }
   },
   "outputs": [],
   "source": [
    "show_grid()"
   ]
  },
  {
   "cell_type": "markdown",
   "metadata": {},
   "source": [
    "Ok, it seems that each sample includes (at least) one human in various poses with various backgrounds. Therefore, our first goal is to convert this dataset into a more suitable format before we processed with training the model. The most straightforward way to do so is to _crop_ the faces only and save them into smaller files."
   ]
  },
  {
   "cell_type": "markdown",
   "metadata": {},
   "source": [
    "---"
   ]
  },
  {
   "cell_type": "code",
   "execution_count": null,
   "metadata": {
    "ExecuteTime": {
     "end_time": "2018-12-28T13:41:11.174939Z",
     "start_time": "2018-12-28T13:41:11.160327Z"
    }
   },
   "outputs": [],
   "source": [
    "def split(target):\n",
    "    return target[:NUM_LANDMARKS//2], target[NUM_LANDMARKS//2:]"
   ]
  },
  {
   "cell_type": "code",
   "execution_count": null,
   "metadata": {
    "ExecuteTime": {
     "end_time": "2018-12-28T13:41:11.462929Z",
     "start_time": "2018-12-28T13:41:11.444476Z"
    }
   },
   "outputs": [],
   "source": [
    "def create_dataset_item(info, root):\n",
    "    \"\"\"Creates a dictionary with face and landmarks coordinates from data frame record.\"\"\"\n",
    "    \n",
    "    return {\n",
    "        'subject_id': info.subject_id,\n",
    "        'image_path': str(root/info.file),\n",
    "        'x_pos': [info[k] for k in info.keys() if k[0] == 'p' and k[-1] == 'x'],\n",
    "        'y_pos': [info[k] for k in info.keys() if k[0] == 'p' and k[-1] == 'y'],\n",
    "        'face': (info.face_x, info.face_y, info.face_width, info.face_height)}"
   ]
  },
  {
   "cell_type": "code",
   "execution_count": null,
   "metadata": {
    "ExecuteTime": {
     "end_time": "2018-12-28T13:41:12.138959Z",
     "start_time": "2018-12-28T13:41:12.121110Z"
    }
   },
   "outputs": [],
   "source": [
    "class FaceLandmarks:\n",
    "    \n",
    "    def __init__(self, info, root, transforms=None):\n",
    "        self.transforms = transforms\n",
    "        self.items = [create_dataset_item(record, DATA) for _, record in meta.iterrows()]\n",
    "    \n",
    "    def __len__(self):\n",
    "        return len(self.items)\n",
    "    \n",
    "    def __getitem__(self, item):\n",
    "        record = self.items[item]\n",
    "        img = imread(record['image_path'])\n",
    "        pts = np.array(record['x_pos'] + record['y_pos'], dtype='float32')\n",
    "        if self.transforms:\n",
    "            img, pts = self.transforms(img, pts)\n",
    "        return img, pts"
   ]
  },
  {
   "cell_type": "code",
   "execution_count": null,
   "metadata": {
    "ExecuteTime": {
     "end_time": "2018-12-28T13:41:40.335722Z",
     "start_time": "2018-12-28T13:41:14.216207Z"
    }
   },
   "outputs": [],
   "source": [
    "ds = FaceLandmarks(meta, DATA)"
   ]
  },
  {
   "cell_type": "code",
   "execution_count": null,
   "metadata": {
    "ExecuteTime": {
     "end_time": "2018-12-28T13:45:33.547326Z",
     "start_time": "2018-12-28T13:45:33.499210Z"
    }
   },
   "outputs": [],
   "source": [
    "test_img, test_pts = ds[3]"
   ]
  },
  {
   "cell_type": "code",
   "execution_count": null,
   "metadata": {
    "ExecuteTime": {
     "end_time": "2018-12-28T13:45:34.259136Z",
     "start_time": "2018-12-28T13:45:34.002903Z"
    }
   },
   "outputs": [],
   "source": [
    "plt.imshow(test_img)\n",
    "plt.scatter(test_pts[:NUM_LANDMARKS//2], test_pts[NUM_LANDMARKS//2:])"
   ]
  },
  {
   "cell_type": "code",
   "execution_count": null,
   "metadata": {
    "ExecuteTime": {
     "end_time": "2018-12-28T13:47:35.769422Z",
     "start_time": "2018-12-28T13:47:35.747181Z"
    }
   },
   "outputs": [],
   "source": [
    "xs, ys = split(test_pts)\n",
    "l, r, t, b = xs.min(), xs.max(), ys.min(), ys.max()\n",
    "new_w, new_h = 224, 224\n",
    "src = np.float32([(l, t), (r, t), (r, b), (l, b)])\n",
    "dst = np.float32([[0, 0], [new_w-1, 0], [new_w-1, new_h-1], [0, new_h-1]])\n",
    "m = cv.getPerspectiveTransform(src, dst)"
   ]
  },
  {
   "cell_type": "code",
   "execution_count": null,
   "metadata": {
    "ExecuteTime": {
     "end_time": "2018-12-28T13:49:49.960028Z",
     "start_time": "2018-12-28T13:49:49.790394Z"
    }
   },
   "outputs": [],
   "source": [
    "plt.imshow(cv.warpPerspective(test_img, m, (new_w, new_h)), interpolation='bicubic')"
   ]
  },
  {
   "cell_type": "code",
   "execution_count": null,
   "metadata": {
    "ExecuteTime": {
     "end_time": "2018-12-28T06:53:55.863514Z",
     "start_time": "2018-12-28T06:53:55.850797Z"
    }
   },
   "outputs": [],
   "source": [
    "def binomial(p):\n",
    "    return np.random.rand() > p"
   ]
  },
  {
   "cell_type": "code",
   "execution_count": null,
   "metadata": {
    "ExecuteTime": {
     "end_time": "2018-12-28T06:53:55.878838Z",
     "start_time": "2018-12-28T06:53:55.864774Z"
    }
   },
   "outputs": [],
   "source": [
    "def rotation_matrix(x, y=None, angle=5):\n",
    "    h, w = x.shape[:2]\n",
    "    minmax = (-angle, angle) if isinstance(angle, int) else angle\n",
    "    a = np.random.uniform(*minmax)\n",
    "    m = cv.getRotationMatrix2D((w/2, h/2), a, 1)\n",
    "    m = np.r_[m, [[0, 0, 1]]]\n",
    "    return m"
   ]
  },
  {
   "cell_type": "code",
   "execution_count": null,
   "metadata": {
    "ExecuteTime": {
     "end_time": "2018-12-28T06:53:55.890618Z",
     "start_time": "2018-12-28T06:53:55.879757Z"
    }
   },
   "outputs": [],
   "source": [
    "def shift_matrix(x, y=None, shift=0.01):\n",
    "    h, w = x.shape[:2]\n",
    "    sx, sy = (shift, shift) if isinstance(shift, float) else shift\n",
    "    shift_x = np.random.randint(-w*sx, w*sx)\n",
    "    shift_y = np.random.randint(-h*sy, h*sy)\n",
    "    m = np.float32([\n",
    "        [1, 0, shift_x],\n",
    "        [0, 1, shift_y],\n",
    "        [0, 0, 1]]) \n",
    "    return m"
   ]
  },
  {
   "cell_type": "code",
   "execution_count": null,
   "metadata": {
    "ExecuteTime": {
     "end_time": "2018-12-28T06:53:55.902137Z",
     "start_time": "2018-12-28T06:53:55.891563Z"
    }
   },
   "outputs": [],
   "source": [
    "def mirror_matrix(x, y=None, horizontal=True):\n",
    "    h, w = x.shape[:2]\n",
    "    c1, c2 = (-1, 1) if horizontal else (1, -1)\n",
    "    s1, s2 = (w, 0) if horizontal else (0, h)\n",
    "    return np.float32([[c1, 0, s1], [0, c2, s2], [0, 0, 1]])"
   ]
  },
  {
   "cell_type": "code",
   "execution_count": null,
   "metadata": {
    "ExecuteTime": {
     "end_time": "2018-12-28T06:56:31.190952Z",
     "start_time": "2018-12-28T06:56:31.167886Z"
    }
   },
   "outputs": [],
   "source": [
    "def perspective_matrix(x, y=None, percentage=(0.05, 0.12)):\n",
    "    h, w = x.shape[:2]\n",
    "    \n",
    "    def rx(): \n",
    "        return int(w*np.random.uniform(*percentage))\n",
    "    \n",
    "    def ry(): \n",
    "        return int(h*np.random.uniform(*percentage))\n",
    "    \n",
    "    tl = [0   + rx(), 0   + ry()]\n",
    "    tr = [w-1 - rx(), 0   + ry()]\n",
    "    br = [w-1 - rx(), h-1 - ry()]\n",
    "    bl = [0   + rx(), h-1 - ry()]\n",
    "    src = np.float32([tl, tr, br, bl])\n",
    "    dst = np.float32([[0, 0], [w-1, 0], [w-1, h-1], [0, h-1]])\n",
    "    m = cv.getPerspectiveTransform(src, dst)\n",
    "    return m"
   ]
  },
  {
   "cell_type": "code",
   "execution_count": null,
   "metadata": {},
   "outputs": [],
   "source": [
    "def crop_face(x, y, size=224):\n",
    "    pts_x, pts_y = split(y)\n",
    "    l, r, t, b = pts_x.min(), pts_x.max(), pts_y.min(), pts.y_max()\n",
    "    new_w, new_h = (size, size) if isinstance(size, int) else size\n",
    "    src = np.float32([(l, t), (r, t), (r, b), (l, b)])\n",
    "    dst = np.float32([[0, 0], [new_w-1, 0], [new_w-1, new_h-1], [0, new_h-1]])\n",
    "    m = cv.getPerspectiveTransform(src, dst)\n",
    "    return m"
   ]
  },
  {
   "cell_type": "code",
   "execution_count": null,
   "metadata": {
    "ExecuteTime": {
     "end_time": "2018-12-28T13:51:18.910067Z",
     "start_time": "2018-12-28T13:51:18.889936Z"
    }
   },
   "outputs": [],
   "source": [
    "aug_conf = [\n",
    "    {'name': 'rotation', 'angle': 10},\n",
    "    {'name': 'mirror'},\n",
    "    {'name': 'perspective', 'percentage': (0.05, 0.15)},\n",
    "    {'name': 'crop_face'}\n",
    "]"
   ]
  },
  {
   "cell_type": "code",
   "execution_count": null,
   "metadata": {
    "ExecuteTime": {
     "end_time": "2018-12-28T13:51:04.053699Z",
     "start_time": "2018-12-28T13:51:04.027770Z"
    }
   },
   "outputs": [],
   "source": [
    "class MatrixAugmentation:\n",
    "    \n",
    "    def __init__(self, conf, default_prob=0.5):\n",
    "        augmentations = {\n",
    "            'rotation': rotation_matrix,\n",
    "            'shift': shift_matrix,\n",
    "            'mirror': mirror_matrix,\n",
    "            'perspective': perspective_matrix}\n",
    "        \n",
    "        pipe = []\n",
    "        for params in deepcopy(conf):\n",
    "            name = params.pop('name')\n",
    "            func = augmentations.get(name)\n",
    "            if func is None:\n",
    "                raise ValueError(f'unknown augmentation function: {name}')\n",
    "            p = params.pop('p', default_prob)\n",
    "            pipe.append((p, func, params))\n",
    "\n",
    "        self.pipe = pipe\n",
    "        \n",
    "    def __call__(self, image, target=None):\n",
    "        h, w = image.shape[:2]\n",
    "        \n",
    "        m = np.eye(3)\n",
    "        for p, func, params, transform in self.pipe:\n",
    "            if binomial(p):\n",
    "                tr_x, tr_y = transform\n",
    "                m = func(w, h, **params) @ m\n",
    "        \n",
    "        aug_image = cv.warpPerspective(image, m_image, (w, h))\n",
    "        if target is not None:\n",
    "            new = target.copy()\n",
    "            n = len(target)//2\n",
    "            for i in range(n):\n",
    "                x, y = target[i], target[i + n]\n",
    "                denom = m[2][0]*x + m[2][1]*y + m[2][2]\n",
    "                new[i] = (m[0][0]*x + m[0][1]*y + m[0][2])/denom\n",
    "                new[i + n] = (m[1][0]*x + m[1][1]*y + m[1][2])/denom\n",
    "            target = new\n",
    "            \n",
    "        return aug_image, target"
   ]
  },
  {
   "cell_type": "code",
   "execution_count": null,
   "metadata": {},
   "outputs": [],
   "source": [
    "# class CropToFace:\n",
    "#     def __init__(self, pad=0):\n",
    "#         self.pad = pad\n",
    "    \n",
    "#     def __call__(self, image, target):\n",
    "#         xs, ys = split(target)\n",
    "#         x_min, x_max, y_min, y_max = xs.min(), xs.max(), ys.min(), ys.max()\n",
    "#         if self.pad:\n",
    "#             x_min -= self.pad\n",
    "#             x_max -= self.pad\n",
    "#             y_min += self.pad\n",
    "#             y_max += self.pad \n",
    "#         src = np.float32([\n",
    "#             [x_min, y_min], \n",
    "#             [x_max, y_min],\n",
    "#             [x_max, y_max],\n",
    "#             [x_min, y_max]\n",
    "#         ])\n",
    "#         dst = np.float32([[0, 0], [w-1, 0], [w-1, h-1], [0, h-1]])\n",
    "#         m = cv.getPerspectiveTransform(src, dst)\n",
    "        "
   ]
  },
  {
   "cell_type": "code",
   "execution_count": null,
   "metadata": {
    "ExecuteTime": {
     "end_time": "2018-12-28T13:51:28.801868Z",
     "start_time": "2018-12-28T13:51:28.777853Z"
    }
   },
   "outputs": [],
   "source": [
    "pipe = MatrixAugmentation(aug_conf)"
   ]
  },
  {
   "cell_type": "code",
   "execution_count": null,
   "metadata": {
    "ExecuteTime": {
     "end_time": "2018-12-28T08:00:38.523473Z",
     "start_time": "2018-12-28T08:00:38.254670Z"
    }
   },
   "outputs": [],
   "source": [
    "aug_img, aug_pts = pipe(test_img, test_pts)\n",
    "plt.imshow(aug_img)\n",
    "plt.scatter(aug_pts[:NUM_LANDMARKS//2], aug_pts[NUM_LANDMARKS//2:])"
   ]
  },
  {
   "cell_type": "markdown",
   "metadata": {},
   "source": [
    "---\n",
    "\n",
    "## Images Cropping"
   ]
  },
  {
   "cell_type": "code",
   "execution_count": null,
   "metadata": {},
   "outputs": [],
   "source": [
    "def create_meta(unique_id, info, root, output):\n",
    "    \"\"\"Creates a dictionary with face and landmarks coordinates from data frame record.\n",
    "    \n",
    "    These records with all required meta-information are passed into images generating function.\n",
    "    \n",
    "    Args:\n",
    "        info: Object or namedtuple with information about image.\n",
    "        root: An absolute path to the folder with annotated images.\n",
    "        output: Path to the folder where to save processed images.\n",
    "    \n",
    "    \"\"\"\n",
    "    i = unique_id\n",
    "    return {\n",
    "        'index': i,\n",
    "        'subject_id': info.subject_id,\n",
    "        'input_path': root/info.file,\n",
    "        'output_image': output/f'{i}.jpeg',\n",
    "        'output_points': output/f'{i}.txt',\n",
    "        'x_pos': [info[k] for k in info.keys() if k[0] == 'p' and k[-1] == 'x'],\n",
    "        'y_pos': [info[k] for k in info.keys() if k[0] == 'p' and k[-1] == 'y'],\n",
    "        'face': (info.face_x, info.face_y, info.face_width, info.face_height)\n",
    "    }"
   ]
  },
  {
   "cell_type": "code",
   "execution_count": null,
   "metadata": {},
   "outputs": [],
   "source": [
    "def as_is(xs, ys, w, h):\n",
    "    return xs, ys"
   ]
  },
  {
   "cell_type": "code",
   "execution_count": null,
   "metadata": {},
   "outputs": [],
   "source": [
    "def to_centered(xs, ys, w, h):\n",
    "    return 2*xs/w - 1, 2*ys/h - 1"
   ]
  },
  {
   "cell_type": "code",
   "execution_count": null,
   "metadata": {},
   "outputs": [],
   "source": [
    "def to_absolute(xs, ys, w, h):\n",
    "    return w*(xs + 1)/2., h*(ys + 1)/2. "
   ]
  },
  {
   "cell_type": "code",
   "execution_count": null,
   "metadata": {},
   "outputs": [],
   "source": [
    "def crop_image(record, centered=True):\n",
    "    converter = to_centered if centered else as_is\n",
    "    x, y, w, h = record['face']\n",
    "    img = PIL.Image.open(record['input_path'])\n",
    "    box = x, y, x+w, y+h\n",
    "    cropped = img.crop(box=box)\n",
    "    x_pos, y_pos = [np.array(record[k]) for k in ('x_pos', 'y_pos')]\n",
    "    x_pos, y_pos = converter(x_pos - x, y_pos - y, w, h)\n",
    "    record.update({'cropped': cropped, 'xy': (x_pos, y_pos), 'centered': centered})\n",
    "    return record"
   ]
  },
  {
   "cell_type": "code",
   "execution_count": null,
   "metadata": {},
   "outputs": [],
   "source": [
    "def show(record, ax=None):\n",
    "    if ax is None:\n",
    "        f, ax = plt.subplots(1, 1)\n",
    "    conv = to_absolute if record['centered'] else as_is\n",
    "    img = record['cropped']\n",
    "    h, w = img.size\n",
    "    ax.imshow(img)\n",
    "    ax.scatter(*conv(*record['xy'], w, h), color='lightgreen', edgecolor='white', alpha=0.8)\n",
    "    ax.set_title(record['index'])\n",
    "    ax.set_axis_off()"
   ]
  },
  {
   "cell_type": "code",
   "execution_count": null,
   "metadata": {},
   "outputs": [],
   "source": [
    "def save_image(record, fmt='%.4f', delimieter=','):\n",
    "    cropped, (x_pos, y_pos) = record['cropped'], record['xy']\n",
    "    cropped.save(record['output_image'], format='jpeg')\n",
    "    np.savetxt(record['output_points'], np.c_[x_pos, y_pos], fmt='%.4f')"
   ]
  },
  {
   "cell_type": "code",
   "execution_count": null,
   "metadata": {},
   "outputs": [],
   "source": [
    "record = create_meta_record(3, meta.loc[3], DATA, CROPPED)\n",
    "record = crop_image(record)\n",
    "show(record)"
   ]
  },
  {
   "cell_type": "code",
   "execution_count": null,
   "metadata": {},
   "outputs": [],
   "source": [
    "def read_ordered_files(path, pattern):\n",
    "    return list(sorted([fn for fn in path.glob(pattern)], key=lambda filename: int(filename.stem)))    "
   ]
  },
  {
   "cell_type": "code",
   "execution_count": null,
   "metadata": {},
   "outputs": [],
   "source": [
    "def create_face_landmarks_dataset(\n",
    "    input_dir: Path,\n",
    "    output_dir: Path,\n",
    "    faces_info: pd.DataFrame\n",
    "):\n",
    "    if output_dir.exists():\n",
    "        print(f'The data is already prepared. Reading from folder: {output_dir}')\n",
    "        images = [str(x) for x in read_ordered_files(output_dir, '*.jpeg')]\n",
    "        points = [str(x) for x in read_ordered_files(output_dir, '*.txt')]\n",
    "        if not images or not points:\n",
    "            print('Warning: no files in output folder! Delete the folder and try again')\n",
    "        data = pd.DataFrame({'image': images, 'points': points})\n",
    "    \n",
    "    else:\n",
    "        output_dir.mkdir(parents=True)\n",
    "        cols = faces_info.columns\n",
    "        n = len(faces_info)\n",
    "        print('Running parallel execution pool...')\n",
    "        worker = partial(create_cropped_image, input_dir=input_dir, output_dir=output_dir)\n",
    "        with Pool() as pool:\n",
    "            results = list(pool.imap(worker, tqdm(faces_info.iterrows(), total=n)))\n",
    "        data = pd.DataFrame(results)\n",
    "        print(f'Done! Output folder: {output_dir}')\n",
    "    \n",
    "    data['order'] = data.image.map(lambda s: int(Path(s).stem))\n",
    "    data.sort_values(by='order', inplace=True)\n",
    "    return data\n",
    "\n",
    "        \n",
    "def create_cropped_image(item, input_dir, output_dir):\n",
    "    i, x = item\n",
    "    record = create_meta(i, x, input_dir, output_dir)\n",
    "    record = crop_image(record)\n",
    "    save_image(record)\n",
    "    return {'image': str(record['output_image']), 'points': str(record['output_points'])}"
   ]
  },
  {
   "cell_type": "code",
   "execution_count": null,
   "metadata": {},
   "outputs": [],
   "source": [
    "landmarks_df = create_face_landmarks_dataset(DATA, CROPPED, meta)"
   ]
  },
  {
   "cell_type": "code",
   "execution_count": null,
   "metadata": {},
   "outputs": [],
   "source": []
  }
 ],
 "metadata": {
  "kernelspec": {
   "display_name": "Python 3",
   "language": "python",
   "name": "python3"
  },
  "language_info": {
   "codemirror_mode": {
    "name": "ipython",
    "version": 3
   },
   "file_extension": ".py",
   "mimetype": "text/x-python",
   "name": "python",
   "nbconvert_exporter": "python",
   "pygments_lexer": "ipython3",
   "version": "3.7.1"
  },
  "toc": {
   "base_numbering": 1,
   "nav_menu": {},
   "number_sections": true,
   "sideBar": true,
   "skip_h1_title": false,
   "title_cell": "Table of Contents",
   "title_sidebar": "Contents",
   "toc_cell": false,
   "toc_position": {},
   "toc_section_display": true,
   "toc_window_display": false
  }
 },
 "nbformat": 4,
 "nbformat_minor": 2
}
